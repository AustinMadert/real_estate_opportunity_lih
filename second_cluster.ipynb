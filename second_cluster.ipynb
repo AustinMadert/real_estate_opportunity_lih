{
 "cells": [
  {
   "cell_type": "code",
   "execution_count": 1,
   "metadata": {},
   "outputs": [],
   "source": [
    "import pandas as pd\n",
    "import numpy as np\n",
    "import matplotlib.pyplot as plt\n",
    "%matplotlib inline\n",
    "\n",
    "from sklearn.cluster import KMeans\n",
    "from math import sin, cos, sqrt, atan2, radians\n",
    "from mpl_toolkits.mplot3d import Axes3D"
   ]
  },
  {
   "cell_type": "code",
   "execution_count": 2,
   "metadata": {},
   "outputs": [],
   "source": [
    "df = pd.read_pickle('boosted_dataset.pkl')"
   ]
  },
  {
   "cell_type": "code",
   "execution_count": 15,
   "metadata": {},
   "outputs": [],
   "source": [
    "def haversine_to_downtown(point):\n",
    "    # calculates the distance between two points (lat, lngs) on a great circle, or on the \n",
    "    # surface of a sphere (in this case the sphere is planet earth)\n",
    "    # units in km\n",
    "    lat, lng = point\n",
    "    deglen = 110.25\n",
    "    x = lat - 30.2648\n",
    "    y = (lng - (-97.7472))*cos(-97.7472)\n",
    "    return deglen*sqrt(x*x + y*y)"
   ]
  },
  {
   "cell_type": "code",
   "execution_count": 12,
   "metadata": {},
   "outputs": [],
   "source": [
    "# get list of coordinates\n",
    "subset = df[['lat', 'lon']]\n",
    "tuples = [tuple(x) for x in subset.values]"
   ]
  },
  {
   "cell_type": "code",
   "execution_count": 7,
   "metadata": {},
   "outputs": [
    {
     "data": {
      "text/plain": [
       "c_street_number                                       15302\n",
       "c_street                                      DOROTHY DRIVE\n",
       "c_unit                                                 None\n",
       "c_city                                               AUSTIN\n",
       "c_state                                                  TX\n",
       "c_zip_code                                            78734\n",
       "g_county                                      Travis County\n",
       "lat                                                 30.3528\n",
       "lon                                                -97.9568\n",
       "adj_address              15302 DOROTHY DRIVEAUSTIN TX 78734\n",
       "price_per_sqft                                      175.622\n",
       "price_per_sqft_gboost                               194.868\n",
       "price                                                609196\n",
       "sqft                                                 3468.8\n",
       "bathrooms                                           3.77397\n",
       "bedrooms                                                  4\n",
       "Name: 3, dtype: object"
      ]
     },
     "execution_count": 7,
     "metadata": {},
     "output_type": "execute_result"
    }
   ],
   "source": [
    "distances = "
   ]
  },
  {
   "cell_type": "code",
   "execution_count": 14,
   "metadata": {},
   "outputs": [
    {
     "data": {
      "text/plain": [
       "23.71966045924804"
      ]
     },
     "execution_count": 14,
     "metadata": {},
     "output_type": "execute_result"
    }
   ],
   "source": [
    "haversine_to_downtown((30.3528,-97.9568))"
   ]
  },
  {
   "cell_type": "code",
   "execution_count": null,
   "metadata": {},
   "outputs": [],
   "source": []
  }
 ],
 "metadata": {
  "kernelspec": {
   "display_name": "Python 3",
   "language": "python",
   "name": "python3"
  },
  "language_info": {
   "codemirror_mode": {
    "name": "ipython",
    "version": 3
   },
   "file_extension": ".py",
   "mimetype": "text/x-python",
   "name": "python",
   "nbconvert_exporter": "python",
   "pygments_lexer": "ipython3",
   "version": "3.7.1"
  }
 },
 "nbformat": 4,
 "nbformat_minor": 2
}
