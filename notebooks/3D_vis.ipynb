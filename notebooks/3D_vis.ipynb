{
 "cells": [
  {
   "cell_type": "code",
   "execution_count": 2,
   "metadata": {},
   "outputs": [],
   "source": [
    "import numpy as np\n",
    "import ipyvolume as ipv\n",
    "import pandas as pd"
   ]
  },
  {
   "cell_type": "code",
   "execution_count": 5,
   "metadata": {},
   "outputs": [],
   "source": [
    "Xdf = pd.read_pickle('naive.pkl')"
   ]
  },
  {
   "cell_type": "code",
   "execution_count": 6,
   "metadata": {},
   "outputs": [],
   "source": [
    "X = Xdf.values"
   ]
  },
  {
   "cell_type": "code",
   "execution_count": 13,
   "metadata": {},
   "outputs": [],
   "source": [
    "dist, val, pop = X[:, 1], X[:, 2], X[:, 3]"
   ]
  },
  {
   "cell_type": "code",
   "execution_count": 8,
   "metadata": {},
   "outputs": [],
   "source": [
    "N = 1000\n",
    "x1, y1, z1 = np.random.normal(0, 1, (3, N))"
   ]
  },
  {
   "cell_type": "code",
   "execution_count": 10,
   "metadata": {},
   "outputs": [],
   "source": [
    "fig = ipv.figure()"
   ]
  },
  {
   "cell_type": "code",
   "execution_count": 11,
   "metadata": {},
   "outputs": [
    {
     "data": {
      "application/vnd.jupyter.widget-view+json": {
       "model_id": "1b3a65983c574cb39f6917bca68a8113",
       "version_major": 2,
       "version_minor": 0
      },
      "text/plain": [
       "VBox(children=(Figure(camera=PerspectiveCamera(fov=46.0, position=(0.0, 0.0, 2.0), projectionMatrix=(2.3558523…"
      ]
     },
     "metadata": {},
     "output_type": "display_data"
    }
   ],
   "source": [
    "scatter = ipv.scatter(x1, y1, z1, marker='sphere')\n",
    "ipv.show()"
   ]
  },
  {
   "cell_type": "code",
   "execution_count": 14,
   "metadata": {},
   "outputs": [
    {
     "data": {
      "application/vnd.jupyter.widget-view+json": {
       "model_id": "1b3a65983c574cb39f6917bca68a8113",
       "version_major": 2,
       "version_minor": 0
      },
      "text/plain": [
       "VBox(children=(Figure(camera=PerspectiveCamera(aspect=0.8, fov=46.0, matrixWorldNeedsUpdate=True, position=(-2…"
      ]
     },
     "metadata": {},
     "output_type": "display_data"
    }
   ],
   "source": [
    "scatter = ipv.scatter(x, y, z, marker='sphere')\n",
    "ipv.show()"
   ]
  },
  {
   "cell_type": "code",
   "execution_count": 33,
   "metadata": {},
   "outputs": [],
   "source": [
    "scene = {'camera': {'up': {'x': 0, 'y': 0, 'z': 1}, 'center': {'x': 0, 'y': 0, 'z': 0}, 'eye': {'x': 2.5, 'y': 0.1, 'z': 0.1}},\n",
    "        'xaxis': {'range': [-1,4], 'title': 'Distance', 'gridcolor': 'rgb(255, 255, 255)', 'zerolinecolor': 'rgb(255, 255, 255)', 'showbackground': True, 'backgroundcolor': 'rgb(230, 230, 230)', 'showticklabels': False, 'ticks': ''},\n",
    "        'yaxis': {'range': [4,8], 'title': 'Valuation', 'gridcolor': 'rgb(255, 255, 255)', 'zerolinecolor': 'rgb(255, 255, 255)', 'showbackground': True, 'backgroundcolor': 'rgb(230, 230, 230)', 'showticklabels': False, 'ticks': ''},\n",
    "        'zaxis': {'range': [1,8], 'title': 'Population', 'gridcolor': 'rgb(255, 255, 255)', 'zerolinecolor': 'rgb(255, 255, 255)', 'showbackground': True, 'backgroundcolor': 'rgb(230, 230, 230)', 'showticklabels': False, 'ticks': ''}}\n",
    "        \n"
   ]
  },
  {
   "cell_type": "code",
   "execution_count": null,
   "metadata": {},
   "outputs": [],
   "source": []
  },
  {
   "cell_type": "code",
   "execution_count": null,
   "metadata": {},
   "outputs": [],
   "source": []
  },
  {
   "cell_type": "code",
   "execution_count": 39,
   "metadata": {},
   "outputs": [
    {
     "data": {
      "text/plain": [
       "layout.Scene({\n",
       "    'camera': {'center': {'x': 0, 'y': 0, 'z': 0}, 'eye': {'x': 2.5, 'y': 0.1, 'z': 0.1}, 'up': {'x': 0, 'y': 0, 'z': 1}},\n",
       "    'domain': {'x': [0.7111111111111111, 1.0], 'y': [0.0, 1.0]},\n",
       "    'xaxis': {'backgroundcolor': 'rgb(230, 230, 230)',\n",
       "              'gridcolor': 'rgb(255, 255, 255)',\n",
       "              'range': [-1, 4],\n",
       "              'showbackground': True,\n",
       "              'showticklabels': False,\n",
       "              'ticks': '',\n",
       "              'title': {'text': 'Distance'},\n",
       "              'zerolinecolor': 'rgb(255, 255, 255)'},\n",
       "    'yaxis': {'backgroundcolor': 'rgb(230, 230, 230)',\n",
       "              'gridcolor': 'rgb(255, 255, 255)',\n",
       "              'range': [4, 8],\n",
       "              'showbackground': True,\n",
       "              'showticklabels': False,\n",
       "              'ticks': '',\n",
       "              'title': {'text': 'Valuation'},\n",
       "              'zerolinecolor': 'rgb(255, 255, 255)'},\n",
       "    'zaxis': {'backgroundcolor': 'rgb(230, 230, 230)',\n",
       "              'gridcolor': 'rgb(255, 255, 255)',\n",
       "              'range': [1, 8],\n",
       "              'showbackground': True,\n",
       "              'showticklabels': False,\n",
       "              'ticks': '',\n",
       "              'title': {'text': 'Population'},\n",
       "              'zerolinecolor': 'rgb(255, 255, 255)'}\n",
       "})"
      ]
     },
     "execution_count": 39,
     "metadata": {},
     "output_type": "execute_result"
    }
   ],
   "source": [
    "np.random.seed(5)\n",
    "\n",
    "fig = tools.make_subplots(rows=1, cols=3,\n",
    "                          print_grid=False,\n",
    "                          specs=[[{'is_3d': True}, {'is_3d': True}, {'is_3d': True}]])\n",
    "# scene = dict(\n",
    "#     camera = dict(\n",
    "#     up=dict(x=0, y=0, z=1),\n",
    "#     center=dict(x=0, y=0, z=0),\n",
    "#     eye=dict(x=2.5, y=0.1, z=0.1)\n",
    "#     ),\n",
    "#     xaxis=dict(\n",
    "#         range=[-1, 4],\n",
    "#         title='Distance',\n",
    "#         gridcolor='rgb(255, 255, 255)',\n",
    "#         zerolinecolor='rgb(255, 255, 255)',\n",
    "#         showbackground=True,\n",
    "#         backgroundcolor='rgb(230, 230,230)',\n",
    "#         showticklabels=False, ticks=''\n",
    "#     ),\n",
    "#     yaxis=dict(\n",
    "#         range=[4, 8],\n",
    "#         title='Valuation',\n",
    "#         gridcolor='rgb(255, 255, 255)',\n",
    "#         zerolinecolor='rgb(255, 255, 255)',\n",
    "#         showbackground=True,\n",
    "#         backgroundcolor='rgb(230, 230,230)',\n",
    "#         showticklabels=False, ticks=''\n",
    "#     ),\n",
    "#     zaxis=dict(\n",
    "#         range=[1,8],\n",
    "#         title='Population',\n",
    "#         gridcolor='rgb(255, 255, 255)',\n",
    "#         zerolinecolor='rgb(255, 255, 255)',\n",
    "#         showbackground=True,\n",
    "#         backgroundcolor='rgb(230, 230,230)',\n",
    "#         showticklabels=False, ticks=''\n",
    "#     )\n",
    "# )\n",
    "\n",
    "centers = [[1, 1], [-1, -1], [1, -1]]\n",
    "\n",
    "\n",
    "estimators = {'k_means_4': KMeans(n_clusters=4),\n",
    "              'k_means_3': KMeans(n_clusters=3),\n",
    "              'k_means_2': KMeans(n_clusters=2)}\n",
    "                          \n",
    "fignum = 1\n",
    "for name, est in estimators.items():\n",
    "    est.fit(X)\n",
    "    labels = est.labels_\n",
    "\n",
    "    trace = go.Scatter3d(x=X[:, 1], y=X[:, 2], z=X[:, 3],\n",
    "                         showlegend=False,\n",
    "                         mode='markers',\n",
    "                         marker=dict(\n",
    "                                color=labels.astype(np.float),\n",
    "                                line=dict(color='black', width=1)\n",
    "        ))\n",
    "    fig.append_trace(trace, 1, fignum)\n",
    "    \n",
    "    fignum += 1\n",
    "\n",
    "# y = np.choose(y, [1, 2, 0]).astype(np.float)\n",
    "\n",
    "# trace1 = go.Scatter3d(x=X[:, 3], y=X[:, 0], z=X[:, 2],\n",
    "#                       showlegend=False,\n",
    "#                       mode='markers',\n",
    "#                       marker=dict(\n",
    "#                             color=y,\n",
    "#                             line=dict(color='black', width=1)))\n",
    "# fig.append_trace(trace1, 2, 1)\n",
    "\n",
    "fig['layout'].update(height=900, width=900,\n",
    "                     margin=dict(l=10,r=10))\n",
    "\n",
    "fig['layout']['scene1'].update(scene)\n",
    "fig['layout']['scene2'].update(scene)\n",
    "fig['layout']['scene3'].update(scene)\n",
    "# fig['layout']['scene4'].update(scene)\n",
    "# fig['layout']['scene5'].update(scene)"
   ]
  },
  {
   "cell_type": "code",
   "execution_count": 46,
   "metadata": {},
   "outputs": [],
   "source": [
    "import plotly\n",
    "plotly.tools.set_credentials_file(username='austin.madert', api_key='pnsBxk2KK00MIs7RSqT4')\n",
    "plotly.plotly.sign_in(\"austin.madert\", \"pnsBxk2KK00MIs7RSqT4\")\n"
   ]
  },
  {
   "cell_type": "code",
   "execution_count": 52,
   "metadata": {},
   "outputs": [],
   "source": [
    "plotly.tools.set_config_file(world_readable=True, sharing='public')"
   ]
  },
  {
   "cell_type": "code",
   "execution_count": 53,
   "metadata": {},
   "outputs": [
    {
     "name": "stdout",
     "output_type": "stream",
     "text": [
      "High five! You successfully sent some data to your account on plotly. View your plot in your browser at https://plot.ly/~austin.madert/0 or inside your plot.ly account where it is named 'plot from API'\n"
     ]
    },
    {
     "name": "stderr",
     "output_type": "stream",
     "text": [
      "/Users/austinmadert/anaconda3/lib/python3.7/site-packages/IPython/core/display.py:689: UserWarning:\n",
      "\n",
      "Consider using IPython.display.IFrame instead\n",
      "\n"
     ]
    },
    {
     "data": {
      "text/html": [
       "<iframe id=\"igraph\" scrolling=\"no\" style=\"border:none;\" seamless=\"seamless\" src=\"https://plot.ly/~austin.madert/0.embed\" height=\"900px\" width=\"900px\"></iframe>"
      ],
      "text/plain": [
       "<plotly.tools.PlotlyDisplay object>"
      ]
     },
     "execution_count": 53,
     "metadata": {},
     "output_type": "execute_result"
    }
   ],
   "source": [
    "py.iplot(fig)"
   ]
  },
  {
   "cell_type": "code",
   "execution_count": null,
   "metadata": {},
   "outputs": [],
   "source": [
    "y = np.choose(, [1, 2, 0]).astype(np.float)"
   ]
  },
  {
   "cell_type": "code",
   "execution_count": 15,
   "metadata": {},
   "outputs": [
    {
     "name": "stdout",
     "output_type": "stream",
     "text": [
      "Automatically created module for IPython interactive environment\n"
     ]
    }
   ],
   "source": [
    "\n",
    "print(__doc__)\n",
    "\n",
    "import plotly.plotly as py\n",
    "import plotly.graph_objs as go\n",
    "from plotly import tools\n",
    "\n",
    "import numpy as np\n",
    "\n",
    "from sklearn.cluster import KMeans\n",
    "from sklearn import datasets"
   ]
  },
  {
   "cell_type": "code",
   "execution_count": 18,
   "metadata": {},
   "outputs": [],
   "source": [
    "model = KMeans(n_clusters=2).fit(X)"
   ]
  },
  {
   "cell_type": "code",
   "execution_count": 19,
   "metadata": {},
   "outputs": [
    {
     "data": {
      "text/plain": [
       "array([0, 0, 1, 1, 1, 1, 1, 1, 1, 1, 1, 1, 1, 1, 1, 1, 1, 1, 1, 1, 1, 1,\n",
       "       0, 0, 1, 0, 1, 1, 1, 1, 1, 0, 0, 1, 0, 1, 0, 0, 1], dtype=int32)"
      ]
     },
     "execution_count": 19,
     "metadata": {},
     "output_type": "execute_result"
    }
   ],
   "source": [
    "model.labels_"
   ]
  },
  {
   "cell_type": "code",
   "execution_count": null,
   "metadata": {},
   "outputs": [],
   "source": []
  }
 ],
 "metadata": {
  "kernelspec": {
   "display_name": "Python 3",
   "language": "python",
   "name": "python3"
  },
  "language_info": {
   "codemirror_mode": {
    "name": "ipython",
    "version": 3
   },
   "file_extension": ".py",
   "mimetype": "text/x-python",
   "name": "python",
   "nbconvert_exporter": "python",
   "pygments_lexer": "ipython3",
   "version": "3.7.1"
  }
 },
 "nbformat": 4,
 "nbformat_minor": 2
}
