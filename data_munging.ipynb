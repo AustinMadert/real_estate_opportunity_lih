{
 "cells": [
  {
   "cell_type": "code",
   "execution_count": 41,
   "metadata": {},
   "outputs": [],
   "source": [
    "import pandas as pd\n",
    "pd.set_option('display.max_rows', 500)\n",
    "pd.set_option('display.max_columns', 500)\n",
    "import re"
   ]
  },
  {
   "cell_type": "code",
   "execution_count": 2,
   "metadata": {},
   "outputs": [],
   "source": [
    "pricedf = pd.read_csv('src/scraping/atx_listings_trulia.csv')"
   ]
  },
  {
   "cell_type": "code",
   "execution_count": 6,
   "metadata": {},
   "outputs": [
    {
     "name": "stderr",
     "output_type": "stream",
     "text": [
      "/Users/austinmadert/anaconda3/envs/lihenv/lib/python3.7/site-packages/IPython/core/interactiveshell.py:3049: DtypeWarning: Columns (11) have mixed types. Specify dtype option on import or set low_memory=False.\n",
      "  interactivity=interactivity, compiler=compiler, result=result)\n"
     ]
    }
   ],
   "source": [
    "geodf = pd.read_csv('data/Austin_addresses.csv')"
   ]
  },
  {
   "cell_type": "code",
   "execution_count": 7,
   "metadata": {},
   "outputs": [
    {
     "data": {
      "text/html": [
       "<div>\n",
       "<style scoped>\n",
       "    .dataframe tbody tr th:only-of-type {\n",
       "        vertical-align: middle;\n",
       "    }\n",
       "\n",
       "    .dataframe tbody tr th {\n",
       "        vertical-align: top;\n",
       "    }\n",
       "\n",
       "    .dataframe thead th {\n",
       "        text-align: right;\n",
       "    }\n",
       "</style>\n",
       "<table border=\"1\" class=\"dataframe\">\n",
       "  <thead>\n",
       "    <tr style=\"text-align: right;\">\n",
       "      <th></th>\n",
       "      <th>address</th>\n",
       "      <th>address1</th>\n",
       "      <th>address2</th>\n",
       "      <th>c_street_number</th>\n",
       "      <th>c_street</th>\n",
       "      <th>c_unit</th>\n",
       "      <th>c_city</th>\n",
       "      <th>c_state</th>\n",
       "      <th>c_zip_code</th>\n",
       "      <th>g_street_number</th>\n",
       "      <th>g_street</th>\n",
       "      <th>g_unit</th>\n",
       "      <th>g_city</th>\n",
       "      <th>g_state</th>\n",
       "      <th>g_zip_code</th>\n",
       "      <th>g_county</th>\n",
       "      <th>lat</th>\n",
       "      <th>lon</th>\n",
       "    </tr>\n",
       "  </thead>\n",
       "  <tbody>\n",
       "    <tr>\n",
       "      <th>0</th>\n",
       "      <td>20813 PENNY ROYAL DR PFLUGERVILLE TX 78660</td>\n",
       "      <td>20813 PENNY ROYAL DR PFLUGERVILLE TX 78660</td>\n",
       "      <td>PENNY ROYAL DR PFLUGERVILLE TX 78660</td>\n",
       "      <td>20813</td>\n",
       "      <td>PENNY ROYAL DRIVE</td>\n",
       "      <td>NaN</td>\n",
       "      <td>PFLUGERVILLE</td>\n",
       "      <td>TX</td>\n",
       "      <td>78660.0</td>\n",
       "      <td>20813</td>\n",
       "      <td>Penny Royal Drive</td>\n",
       "      <td>NaN</td>\n",
       "      <td>Pflugerville</td>\n",
       "      <td>Texas</td>\n",
       "      <td>78660.0</td>\n",
       "      <td>Travis County</td>\n",
       "      <td>30.484112</td>\n",
       "      <td>-97.563114</td>\n",
       "    </tr>\n",
       "    <tr>\n",
       "      <th>1</th>\n",
       "      <td>10604 FOUNDATION ROAD AUS1 TN TX 78726</td>\n",
       "      <td>10604 FOUNDATION RD AUS1 TN TX 78726</td>\n",
       "      <td>FOUNDATION RD AUS1 TN TX 78726</td>\n",
       "      <td>10604</td>\n",
       "      <td>FOUNDATION ROAD</td>\n",
       "      <td>NaN</td>\n",
       "      <td>AUSTIN</td>\n",
       "      <td>TX</td>\n",
       "      <td>78726.0</td>\n",
       "      <td>NaN</td>\n",
       "      <td>NaN</td>\n",
       "      <td>NaN</td>\n",
       "      <td>NaN</td>\n",
       "      <td>NaN</td>\n",
       "      <td>NaN</td>\n",
       "      <td>NaN</td>\n",
       "      <td>NaN</td>\n",
       "      <td>NaN</td>\n",
       "    </tr>\n",
       "    <tr>\n",
       "      <th>2</th>\n",
       "      <td>12200 PRATOLINA DR AUSTIN TX 78739</td>\n",
       "      <td>12200 PRATOLINA DR AUSTIN TX 78739</td>\n",
       "      <td>PRATOLINA DR AUSTIN TX 78739</td>\n",
       "      <td>12200</td>\n",
       "      <td>PRATOLINA DRIVE</td>\n",
       "      <td>NaN</td>\n",
       "      <td>AUSTIN</td>\n",
       "      <td>TX</td>\n",
       "      <td>78739.0</td>\n",
       "      <td>12200</td>\n",
       "      <td>Pratolina Drive</td>\n",
       "      <td>NaN</td>\n",
       "      <td>Austin</td>\n",
       "      <td>Texas</td>\n",
       "      <td>78739.0</td>\n",
       "      <td>Travis County</td>\n",
       "      <td>30.186914</td>\n",
       "      <td>-97.928031</td>\n",
       "    </tr>\n",
       "    <tr>\n",
       "      <th>3</th>\n",
       "      <td>311 EVENING GROSBEAK DRIVE PFLUGERVILLE TX 78660</td>\n",
       "      <td>311 EVENING GROSBEAK DR PFLUGERVILLE TX 78660</td>\n",
       "      <td>EVENING GROSBEAK DR PFLUGERVILLE TX 78660</td>\n",
       "      <td>311</td>\n",
       "      <td>EVENING GROSBEAK DRIVE</td>\n",
       "      <td>NaN</td>\n",
       "      <td>PFLUGERVILLE</td>\n",
       "      <td>TX</td>\n",
       "      <td>78660.0</td>\n",
       "      <td>311</td>\n",
       "      <td>Evening Grosbeak Drive</td>\n",
       "      <td>NaN</td>\n",
       "      <td>Pflugerville</td>\n",
       "      <td>Texas</td>\n",
       "      <td>78660.0</td>\n",
       "      <td>Travis County</td>\n",
       "      <td>30.446861</td>\n",
       "      <td>-97.627389</td>\n",
       "    </tr>\n",
       "    <tr>\n",
       "      <th>4</th>\n",
       "      <td>8201 EDGEMOOR PLACE AUSTIN TX 78749</td>\n",
       "      <td>NaN</td>\n",
       "      <td>NaN</td>\n",
       "      <td>8201</td>\n",
       "      <td>EDGEMOOR PLACE</td>\n",
       "      <td>NaN</td>\n",
       "      <td>AUSTIN</td>\n",
       "      <td>TX</td>\n",
       "      <td>78749.0</td>\n",
       "      <td>NaN</td>\n",
       "      <td>NaN</td>\n",
       "      <td>NaN</td>\n",
       "      <td>NaN</td>\n",
       "      <td>NaN</td>\n",
       "      <td>NaN</td>\n",
       "      <td>NaN</td>\n",
       "      <td>NaN</td>\n",
       "      <td>NaN</td>\n",
       "    </tr>\n",
       "  </tbody>\n",
       "</table>\n",
       "</div>"
      ],
      "text/plain": [
       "                                            address  \\\n",
       "0        20813 PENNY ROYAL DR PFLUGERVILLE TX 78660   \n",
       "1            10604 FOUNDATION ROAD AUS1 TN TX 78726   \n",
       "2                12200 PRATOLINA DR AUSTIN TX 78739   \n",
       "3  311 EVENING GROSBEAK DRIVE PFLUGERVILLE TX 78660   \n",
       "4               8201 EDGEMOOR PLACE AUSTIN TX 78749   \n",
       "\n",
       "                                        address1  \\\n",
       "0     20813 PENNY ROYAL DR PFLUGERVILLE TX 78660   \n",
       "1           10604 FOUNDATION RD AUS1 TN TX 78726   \n",
       "2             12200 PRATOLINA DR AUSTIN TX 78739   \n",
       "3  311 EVENING GROSBEAK DR PFLUGERVILLE TX 78660   \n",
       "4                                            NaN   \n",
       "\n",
       "                                    address2 c_street_number  \\\n",
       "0       PENNY ROYAL DR PFLUGERVILLE TX 78660           20813   \n",
       "1             FOUNDATION RD AUS1 TN TX 78726           10604   \n",
       "2               PRATOLINA DR AUSTIN TX 78739           12200   \n",
       "3  EVENING GROSBEAK DR PFLUGERVILLE TX 78660             311   \n",
       "4                                        NaN            8201   \n",
       "\n",
       "                 c_street c_unit        c_city c_state  c_zip_code  \\\n",
       "0       PENNY ROYAL DRIVE    NaN  PFLUGERVILLE      TX     78660.0   \n",
       "1         FOUNDATION ROAD    NaN        AUSTIN      TX     78726.0   \n",
       "2         PRATOLINA DRIVE    NaN        AUSTIN      TX     78739.0   \n",
       "3  EVENING GROSBEAK DRIVE    NaN  PFLUGERVILLE      TX     78660.0   \n",
       "4          EDGEMOOR PLACE    NaN        AUSTIN      TX     78749.0   \n",
       "\n",
       "  g_street_number                g_street g_unit        g_city g_state  \\\n",
       "0           20813       Penny Royal Drive    NaN  Pflugerville   Texas   \n",
       "1             NaN                     NaN    NaN           NaN     NaN   \n",
       "2           12200         Pratolina Drive    NaN        Austin   Texas   \n",
       "3             311  Evening Grosbeak Drive    NaN  Pflugerville   Texas   \n",
       "4             NaN                     NaN    NaN           NaN     NaN   \n",
       "\n",
       "   g_zip_code       g_county        lat        lon  \n",
       "0     78660.0  Travis County  30.484112 -97.563114  \n",
       "1         NaN            NaN        NaN        NaN  \n",
       "2     78739.0  Travis County  30.186914 -97.928031  \n",
       "3     78660.0  Travis County  30.446861 -97.627389  \n",
       "4         NaN            NaN        NaN        NaN  "
      ]
     },
     "execution_count": 7,
     "metadata": {},
     "output_type": "execute_result"
    }
   ],
   "source": [
    "geodf.head()"
   ]
  },
  {
   "cell_type": "code",
   "execution_count": 8,
   "metadata": {},
   "outputs": [
    {
     "data": {
      "text/html": [
       "<div>\n",
       "<style scoped>\n",
       "    .dataframe tbody tr th:only-of-type {\n",
       "        vertical-align: middle;\n",
       "    }\n",
       "\n",
       "    .dataframe tbody tr th {\n",
       "        vertical-align: top;\n",
       "    }\n",
       "\n",
       "    .dataframe thead th {\n",
       "        text-align: right;\n",
       "    }\n",
       "</style>\n",
       "<table border=\"1\" class=\"dataframe\">\n",
       "  <thead>\n",
       "    <tr style=\"text-align: right;\">\n",
       "      <th></th>\n",
       "      <th>address</th>\n",
       "      <th>bathrooms</th>\n",
       "      <th>bedrooms</th>\n",
       "      <th>city_state_zip</th>\n",
       "      <th>house_type</th>\n",
       "      <th>price</th>\n",
       "      <th>sqft</th>\n",
       "      <th>url</th>\n",
       "    </tr>\n",
       "  </thead>\n",
       "  <tbody>\n",
       "    <tr>\n",
       "      <th>0</th>\n",
       "      <td>4159 Steck Ave #102</td>\n",
       "      <td>2 Bathrooms</td>\n",
       "      <td>3 Bedrooms</td>\n",
       "      <td>Austin, TX 78759</td>\n",
       "      <td>Condo</td>\n",
       "      <td>$280,000</td>\n",
       "      <td>1,427 Square Feet</td>\n",
       "      <td>https://www.trulia.com/p/tx/austin/4159-steck-...</td>\n",
       "    </tr>\n",
       "    <tr>\n",
       "      <th>1</th>\n",
       "      <td>15810 De Peer Cv</td>\n",
       "      <td>3 Bathrooms</td>\n",
       "      <td>4 Bedrooms</td>\n",
       "      <td>Austin, TX 78717</td>\n",
       "      <td>Single-Family Home</td>\n",
       "      <td>$299,000</td>\n",
       "      <td>2,224 Square Feet</td>\n",
       "      <td>https://www.trulia.com/p/tx/austin/15810-de-pe...</td>\n",
       "    </tr>\n",
       "    <tr>\n",
       "      <th>2</th>\n",
       "      <td>8201 Lazy Ln</td>\n",
       "      <td>1 Bathroom</td>\n",
       "      <td>3 Bedrooms</td>\n",
       "      <td>Austin, TX 78757</td>\n",
       "      <td>Single-Family Home</td>\n",
       "      <td>$329,900</td>\n",
       "      <td>1,005 Square Feet</td>\n",
       "      <td>https://www.trulia.com/p/tx/austin/8201-lazy-l...</td>\n",
       "    </tr>\n",
       "    <tr>\n",
       "      <th>3</th>\n",
       "      <td>14511 Fitzgibbon Dr</td>\n",
       "      <td>2 Bathrooms</td>\n",
       "      <td>3 Bedrooms</td>\n",
       "      <td>Austin, TX 78725</td>\n",
       "      <td>Single-Family Home</td>\n",
       "      <td>$229,874</td>\n",
       "      <td>1,499 Square Feet</td>\n",
       "      <td>https://www.trulia.com/p/tx/austin/14511-fitzg...</td>\n",
       "    </tr>\n",
       "    <tr>\n",
       "      <th>4</th>\n",
       "      <td>10304 Bankhead Dr</td>\n",
       "      <td>2 Bathrooms</td>\n",
       "      <td>3 Bedrooms</td>\n",
       "      <td>Austin, TX 78757</td>\n",
       "      <td>Single-Family Home</td>\n",
       "      <td>$237,501</td>\n",
       "      <td>1,295 Square Feet</td>\n",
       "      <td>https://www.trulia.com/p/tx/austin/10304-bankh...</td>\n",
       "    </tr>\n",
       "  </tbody>\n",
       "</table>\n",
       "</div>"
      ],
      "text/plain": [
       "               address    bathrooms    bedrooms    city_state_zip  \\\n",
       "0  4159 Steck Ave #102  2 Bathrooms  3 Bedrooms  Austin, TX 78759   \n",
       "1     15810 De Peer Cv  3 Bathrooms  4 Bedrooms  Austin, TX 78717   \n",
       "2         8201 Lazy Ln   1 Bathroom  3 Bedrooms  Austin, TX 78757   \n",
       "3  14511 Fitzgibbon Dr  2 Bathrooms  3 Bedrooms  Austin, TX 78725   \n",
       "4    10304 Bankhead Dr  2 Bathrooms  3 Bedrooms  Austin, TX 78757   \n",
       "\n",
       "           house_type     price               sqft  \\\n",
       "0               Condo  $280,000  1,427 Square Feet   \n",
       "1  Single-Family Home  $299,000  2,224 Square Feet   \n",
       "2  Single-Family Home  $329,900  1,005 Square Feet   \n",
       "3  Single-Family Home  $229,874  1,499 Square Feet   \n",
       "4  Single-Family Home  $237,501  1,295 Square Feet   \n",
       "\n",
       "                                                 url  \n",
       "0  https://www.trulia.com/p/tx/austin/4159-steck-...  \n",
       "1  https://www.trulia.com/p/tx/austin/15810-de-pe...  \n",
       "2  https://www.trulia.com/p/tx/austin/8201-lazy-l...  \n",
       "3  https://www.trulia.com/p/tx/austin/14511-fitzg...  \n",
       "4  https://www.trulia.com/p/tx/austin/10304-bankh...  "
      ]
     },
     "execution_count": 8,
     "metadata": {},
     "output_type": "execute_result"
    }
   ],
   "source": [
    "pricedf.head()"
   ]
  },
  {
   "cell_type": "code",
   "execution_count": 29,
   "metadata": {},
   "outputs": [],
   "source": [
    "pricedf['price'] = pricedf['price'].map(lambda x: str(x).replace(',', '').replace('$',''))"
   ]
  },
  {
   "cell_type": "code",
   "execution_count": 31,
   "metadata": {},
   "outputs": [],
   "source": [
    "pricedf['sqft'] = pricedf['sqft'].map(lambda x: str(x).replace(',', '').replace(' Square Feet',''))"
   ]
  },
  {
   "cell_type": "code",
   "execution_count": 33,
   "metadata": {},
   "outputs": [],
   "source": [
    "pricedf['sqft'].fillna(0, inplace=True)"
   ]
  },
  {
   "cell_type": "code",
   "execution_count": 36,
   "metadata": {},
   "outputs": [],
   "source": [
    "pricedf['sqft'] = pricedf['sqft'].map(lambda x: 0 if x == 'nan' else x)"
   ]
  },
  {
   "cell_type": "code",
   "execution_count": 40,
   "metadata": {},
   "outputs": [
    {
     "data": {
      "text/plain": [
       "array(['Condo', 'Single-Family Home', 'Mobile/Manufactured', 'Townhouse',\n",
       "       nan, 'Lot/Land', '4,267 Square Feet', 'Lot Size: 9060 sqft',\n",
       "       'Lot Size: 9496 sqft', '456 Square Feet', 'Lot Size: 8494 sqft',\n",
       "       'Lot Size: 10541 sqft', 'Lot Size: 1.04 acres',\n",
       "       'Lot Size: 0.61 acres', 'Lot Size: 1.00 acres', '952 Square Feet',\n",
       "       'Lot Size: 1.53 acres', 'Lot Size: 0.29 acres',\n",
       "       '3,565 Square Feet', 'Lot Size: 8973 sqft', '4,089 Square Feet',\n",
       "       'Lot Size: 9583 sqft', 'Lot Size: 8145 sqft',\n",
       "       'Lot Size: 9278 sqft', '1,130 Square Feet', 'Lot Size: 0.66 acres',\n",
       "       '1,302 Square Feet', '2,100 Square Feet', 'Lot Size: 8668 sqft',\n",
       "       'Lot Size: 7431 sqft', '4,000 Square Feet', 'Lot Size: 3571 sqft',\n",
       "       '4,788 Square Feet', '2,201 Square Feet', 'Lot Size: 10.48 acres',\n",
       "       'Lot Size: 7100 sqft', 'Multi-Family', 'Lot Size: 11.40 acres',\n",
       "       'Lot Size: 0.28 acres', '1,700 Square Feet', '3,504 Square Feet',\n",
       "       'Lot Size: 1.62 acres'], dtype=object)"
      ]
     },
     "execution_count": 40,
     "metadata": {},
     "output_type": "execute_result"
    }
   ],
   "source": [
    "pricedf.house_type.unique()"
   ]
  },
  {
   "cell_type": "code",
   "execution_count": 45,
   "metadata": {},
   "outputs": [
    {
     "data": {
      "text/html": [
       "<div>\n",
       "<style scoped>\n",
       "    .dataframe tbody tr th:only-of-type {\n",
       "        vertical-align: middle;\n",
       "    }\n",
       "\n",
       "    .dataframe tbody tr th {\n",
       "        vertical-align: top;\n",
       "    }\n",
       "\n",
       "    .dataframe thead th {\n",
       "        text-align: right;\n",
       "    }\n",
       "</style>\n",
       "<table border=\"1\" class=\"dataframe\">\n",
       "  <thead>\n",
       "    <tr style=\"text-align: right;\">\n",
       "      <th></th>\n",
       "      <th>address</th>\n",
       "      <th>bathrooms</th>\n",
       "      <th>bedrooms</th>\n",
       "      <th>city_state_zip</th>\n",
       "      <th>house_type</th>\n",
       "      <th>price</th>\n",
       "      <th>sqft</th>\n",
       "      <th>url</th>\n",
       "    </tr>\n",
       "  </thead>\n",
       "  <tbody>\n",
       "    <tr>\n",
       "      <th>135</th>\n",
       "      <td>403 Oertli Ln</td>\n",
       "      <td>1,568 Square Feet</td>\n",
       "      <td>Multi-Family</td>\n",
       "      <td>Austin, TX 78753</td>\n",
       "      <td>Lot Size: 9496 sqft</td>\n",
       "      <td>260000</td>\n",
       "      <td>2 Bathrooms</td>\n",
       "      <td>https://www.trulia.com/p/tx/austin/403-oertli-...</td>\n",
       "    </tr>\n",
       "  </tbody>\n",
       "</table>\n",
       "</div>"
      ],
      "text/plain": [
       "           address          bathrooms      bedrooms    city_state_zip  \\\n",
       "135  403 Oertli Ln  1,568 Square Feet  Multi-Family  Austin, TX 78753   \n",
       "\n",
       "              house_type   price         sqft  \\\n",
       "135  Lot Size: 9496 sqft  260000  2 Bathrooms   \n",
       "\n",
       "                                                   url  \n",
       "135  https://www.trulia.com/p/tx/austin/403-oertli-...  "
      ]
     },
     "execution_count": 45,
     "metadata": {},
     "output_type": "execute_result"
    }
   ],
   "source": [
    "pricedf[pricedf['house_type'] == 'Lot Size: 9496 sqft']"
   ]
  },
  {
   "cell_type": "code",
   "execution_count": 47,
   "metadata": {},
   "outputs": [],
   "source": [
    " def hasNumbers(inputString):\n",
    "    return any(char.isdigit() for char in inputString)"
   ]
  },
  {
   "cell_type": "code",
   "execution_count": 53,
   "metadata": {},
   "outputs": [],
   "source": [
    "newpricedf = pricedf[pricedf['sqft'].map(lambda x: True if str(x).isdigit() else False)].copy()"
   ]
  },
  {
   "cell_type": "code",
   "execution_count": 59,
   "metadata": {},
   "outputs": [],
   "source": [
    "newpricedf['price'] = newpricedf['price'].astype(int)\n",
    "newpricedf['sqft'] = newpricedf['sqft'].astype(int)"
   ]
  },
  {
   "cell_type": "code",
   "execution_count": 61,
   "metadata": {},
   "outputs": [],
   "source": [
    "newpricedf[\"price_per_sqft\"] = newpricedf['price'] / newpricedf['sqft']"
   ]
  },
  {
   "cell_type": "code",
   "execution_count": 64,
   "metadata": {},
   "outputs": [],
   "source": [
    "newpricedf.drop(['bathrooms', 'bedrooms', 'url', 'house_type'], axis=1, inplace=True)"
   ]
  },
  {
   "cell_type": "code",
   "execution_count": 73,
   "metadata": {},
   "outputs": [],
   "source": [
    "newpricedf.drop_duplicates(inplace=True)"
   ]
  },
  {
   "cell_type": "code",
   "execution_count": 74,
   "metadata": {},
   "outputs": [
    {
     "data": {
      "text/plain": [
       "(662, 5)"
      ]
     },
     "execution_count": 74,
     "metadata": {},
     "output_type": "execute_result"
    }
   ],
   "source": [
    "newpricedf.shape"
   ]
  },
  {
   "cell_type": "code",
   "execution_count": 78,
   "metadata": {},
   "outputs": [
    {
     "data": {
      "text/plain": [
       "False"
      ]
     },
     "execution_count": 78,
     "metadata": {},
     "output_type": "execute_result"
    }
   ],
   "source": [
    "newpricedf.address.is_unique"
   ]
  },
  {
   "cell_type": "code",
   "execution_count": 79,
   "metadata": {},
   "outputs": [
    {
     "data": {
      "text/html": [
       "<div>\n",
       "<style scoped>\n",
       "    .dataframe tbody tr th:only-of-type {\n",
       "        vertical-align: middle;\n",
       "    }\n",
       "\n",
       "    .dataframe tbody tr th {\n",
       "        vertical-align: top;\n",
       "    }\n",
       "\n",
       "    .dataframe thead th {\n",
       "        text-align: right;\n",
       "    }\n",
       "</style>\n",
       "<table border=\"1\" class=\"dataframe\">\n",
       "  <thead>\n",
       "    <tr style=\"text-align: right;\">\n",
       "      <th></th>\n",
       "      <th>address</th>\n",
       "      <th>city_state_zip</th>\n",
       "      <th>price</th>\n",
       "      <th>sqft</th>\n",
       "      <th>price_per_sqft</th>\n",
       "    </tr>\n",
       "  </thead>\n",
       "  <tbody>\n",
       "    <tr>\n",
       "      <th>221</th>\n",
       "      <td>14921 Custis Ln</td>\n",
       "      <td>Austin, TX 78725</td>\n",
       "      <td>241990</td>\n",
       "      <td>2040</td>\n",
       "      <td>118.622549</td>\n",
       "    </tr>\n",
       "    <tr>\n",
       "      <th>569</th>\n",
       "      <td>14921 Custis Ln</td>\n",
       "      <td>Austin, TX 78725</td>\n",
       "      <td>241990</td>\n",
       "      <td>0</td>\n",
       "      <td>inf</td>\n",
       "    </tr>\n",
       "  </tbody>\n",
       "</table>\n",
       "</div>"
      ],
      "text/plain": [
       "             address    city_state_zip   price  sqft  price_per_sqft\n",
       "221  14921 Custis Ln  Austin, TX 78725  241990  2040      118.622549\n",
       "569  14921 Custis Ln  Austin, TX 78725  241990     0             inf"
      ]
     },
     "execution_count": 79,
     "metadata": {},
     "output_type": "execute_result"
    }
   ],
   "source": [
    "address = newpricedf.address\n",
    "newpricedf[address.isin(address[address.duplicated()])]"
   ]
  },
  {
   "cell_type": "code",
   "execution_count": 80,
   "metadata": {},
   "outputs": [],
   "source": [
    "newpricedf.drop(569, inplace=True)"
   ]
  },
  {
   "cell_type": "code",
   "execution_count": 81,
   "metadata": {},
   "outputs": [
    {
     "data": {
      "text/plain": [
       "True"
      ]
     },
     "execution_count": 81,
     "metadata": {},
     "output_type": "execute_result"
    }
   ],
   "source": [
    "newpricedf.address.is_unique"
   ]
  },
  {
   "cell_type": "code",
   "execution_count": 90,
   "metadata": {},
   "outputs": [],
   "source": [
    "newpricedf.address = newpricedf.address.str.upper()"
   ]
  },
  {
   "cell_type": "code",
   "execution_count": null,
   "metadata": {},
   "outputs": [],
   "source": []
  }
 ],
 "metadata": {
  "kernelspec": {
   "display_name": "Python 3",
   "language": "python",
   "name": "python3"
  },
  "language_info": {
   "codemirror_mode": {
    "name": "ipython",
    "version": 3
   },
   "file_extension": ".py",
   "mimetype": "text/x-python",
   "name": "python",
   "nbconvert_exporter": "python",
   "pygments_lexer": "ipython3",
   "version": "3.7.3"
  }
 },
 "nbformat": 4,
 "nbformat_minor": 2
}
